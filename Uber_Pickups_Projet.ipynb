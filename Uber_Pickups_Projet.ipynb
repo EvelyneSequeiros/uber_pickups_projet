{
 "cells": [
  {
   "cell_type": "code",
   "execution_count": 1,
   "id": "fabdcc9f-13ce-4911-961d-8f9572249329",
   "metadata": {},
   "outputs": [
    {
     "name": "stdout",
     "output_type": "stream",
     "text": [
      "Requirement already satisfied: plotly in /opt/conda/lib/python3.9/site-packages (5.5.0)\n",
      "Requirement already satisfied: six in /opt/conda/lib/python3.9/site-packages (from plotly) (1.16.0)\n",
      "Requirement already satisfied: tenacity>=6.2.0 in /opt/conda/lib/python3.9/site-packages (from plotly) (8.0.1)\n"
     ]
    }
   ],
   "source": [
    "!pip install plotly"
   ]
  },
  {
   "cell_type": "markdown",
   "id": "b184d2aa-ea8c-424c-b89a-445ba8f5b66a",
   "metadata": {},
   "source": [
    "# Projet Uber Pickups"
   ]
  },
  {
   "cell_type": "markdown",
   "id": "f8ddb3bb-5506-4b00-9542-021e377c9adc",
   "metadata": {},
   "source": [
    "### Import libraries"
   ]
  },
  {
   "cell_type": "code",
   "execution_count": 1,
   "id": "3309ffd3-45a5-41c4-930e-65dbd358fdaa",
   "metadata": {},
   "outputs": [],
   "source": [
    "import pandas as pd\n",
    "import numpy as np\n",
    "from datetime import date\n",
    "\n",
    "import plotly.io as pio\n",
    "pio.renderers.default = \"iframe_connected\"\n",
    "import plotly.express as px\n",
    "import plotly.graph_objects as go\n",
    "import seaborn as sns\n",
    "\n",
    "from sklearn.pipeline import Pipeline\n",
    "from sklearn.impute import SimpleImputer\n",
    "from sklearn.preprocessing import  OneHotEncoder, StandardScaler, LabelEncoder\n",
    "from sklearn.compose import ColumnTransformer\n",
    "\n",
    "from sklearn.cluster import KMeans \n",
    "from sklearn.metrics import silhouette_score\n",
    "from sklearn.cluster import DBSCAN"
   ]
  },
  {
   "cell_type": "code",
   "execution_count": 2,
   "id": "220b667e-41ef-4029-8653-a043e0c23c74",
   "metadata": {},
   "outputs": [],
   "source": [
    "april = pd.read_csv(\"apr14.csv\")\n",
    "may = pd.read_csv(\"may14.csv\")\n",
    "june = pd.read_csv(\"jun14.csv\")\n",
    "july = pd.read_csv(\"jul14.csv\")\n",
    "august = pd.read_csv(\"aug14.csv\")\n",
    "sept = pd.read_csv(\"sep14.csv\")"
   ]
  },
  {
   "cell_type": "markdown",
   "id": "e55864a2-1d41-46e2-94a7-86738d6cc51b",
   "metadata": {},
   "source": [
    "#### Data preprocessings"
   ]
  },
  {
   "cell_type": "code",
   "execution_count": 37,
   "id": "4f94425e-4656-45cb-b7fa-f62b6fa821ea",
   "metadata": {},
   "outputs": [],
   "source": [
    "df = pd.concat([april, may, june, july, august, sept], ignore_index=True).sample(50000, random_state=0).reset_index()"
   ]
  },
  {
   "cell_type": "code",
   "execution_count": 38,
   "id": "c2eaa9cc-e77c-44d1-aaee-a0ff33306cba",
   "metadata": {},
   "outputs": [
    {
     "data": {
      "text/html": [
       "<div>\n",
       "<style scoped>\n",
       "    .dataframe tbody tr th:only-of-type {\n",
       "        vertical-align: middle;\n",
       "    }\n",
       "\n",
       "    .dataframe tbody tr th {\n",
       "        vertical-align: top;\n",
       "    }\n",
       "\n",
       "    .dataframe thead th {\n",
       "        text-align: right;\n",
       "    }\n",
       "</style>\n",
       "<table border=\"1\" class=\"dataframe\">\n",
       "  <thead>\n",
       "    <tr style=\"text-align: right;\">\n",
       "      <th></th>\n",
       "      <th>index</th>\n",
       "      <th>Date/Time</th>\n",
       "      <th>Lat</th>\n",
       "      <th>Lon</th>\n",
       "      <th>Base</th>\n",
       "      <th>day_of_week</th>\n",
       "      <th>hour_of_day</th>\n",
       "    </tr>\n",
       "  </thead>\n",
       "  <tbody>\n",
       "    <tr>\n",
       "      <th>0</th>\n",
       "      <td>1596051</td>\n",
       "      <td>6/19/2014 9:09:00</td>\n",
       "      <td>40.7809</td>\n",
       "      <td>-73.9790</td>\n",
       "      <td>B02617</td>\n",
       "      <td>3</td>\n",
       "      <td>9</td>\n",
       "    </tr>\n",
       "    <tr>\n",
       "      <th>1</th>\n",
       "      <td>895170</td>\n",
       "      <td>5/9/2014 20:05:00</td>\n",
       "      <td>40.7673</td>\n",
       "      <td>-73.9564</td>\n",
       "      <td>B02617</td>\n",
       "      <td>4</td>\n",
       "      <td>20</td>\n",
       "    </tr>\n",
       "    <tr>\n",
       "      <th>2</th>\n",
       "      <td>1483071</td>\n",
       "      <td>6/29/2014 14:31:00</td>\n",
       "      <td>40.6721</td>\n",
       "      <td>-73.9646</td>\n",
       "      <td>B02598</td>\n",
       "      <td>6</td>\n",
       "      <td>14</td>\n",
       "    </tr>\n",
       "    <tr>\n",
       "      <th>3</th>\n",
       "      <td>2793242</td>\n",
       "      <td>8/12/2014 8:28:00</td>\n",
       "      <td>40.7751</td>\n",
       "      <td>-73.9567</td>\n",
       "      <td>B02598</td>\n",
       "      <td>1</td>\n",
       "      <td>8</td>\n",
       "    </tr>\n",
       "    <tr>\n",
       "      <th>4</th>\n",
       "      <td>3615099</td>\n",
       "      <td>9/10/2014 11:56:00</td>\n",
       "      <td>40.6271</td>\n",
       "      <td>-73.9437</td>\n",
       "      <td>B02598</td>\n",
       "      <td>2</td>\n",
       "      <td>11</td>\n",
       "    </tr>\n",
       "  </tbody>\n",
       "</table>\n",
       "</div>"
      ],
      "text/plain": [
       "     index           Date/Time      Lat      Lon    Base  day_of_week  \\\n",
       "0  1596051   6/19/2014 9:09:00  40.7809 -73.9790  B02617            3   \n",
       "1   895170   5/9/2014 20:05:00  40.7673 -73.9564  B02617            4   \n",
       "2  1483071  6/29/2014 14:31:00  40.6721 -73.9646  B02598            6   \n",
       "3  2793242   8/12/2014 8:28:00  40.7751 -73.9567  B02598            1   \n",
       "4  3615099  9/10/2014 11:56:00  40.6271 -73.9437  B02598            2   \n",
       "\n",
       "   hour_of_day  \n",
       "0            9  \n",
       "1           20  \n",
       "2           14  \n",
       "3            8  \n",
       "4           11  "
      ]
     },
     "execution_count": 38,
     "metadata": {},
     "output_type": "execute_result"
    }
   ],
   "source": [
    "df[\"day_of_week\"] = df['Date/Time'].astype({\"Date/Time\": 'datetime64[ns]'}).map(lambda x: x.weekday())\n",
    "df[\"hour_of_day\"] = df['Date/Time'].astype({\"Date/Time\": 'datetime64[ns]'}).map(lambda x: x.hour)\n",
    "df.head()"
   ]
  },
  {
   "cell_type": "markdown",
   "id": "fe4faa4a-93fd-4f76-9323-b5694fa2ba1f",
   "metadata": {},
   "source": [
    "#### Interactive map with plotly : uber pickups at different hours every day"
   ]
  },
  {
   "cell_type": "code",
   "execution_count": 6,
   "id": "9e9a51c3-de1c-4284-93c7-57baf379e1bf",
   "metadata": {},
   "outputs": [
    {
     "data": {
      "text/html": [
       "<iframe\n",
       "    scrolling=\"no\"\n",
       "    width=\"100%\"\n",
       "    height=\"545px\"\n",
       "    src=\"iframe_figures/figure_6.html\"\n",
       "    frameborder=\"0\"\n",
       "    allowfullscreen\n",
       "></iframe>\n"
      ]
     },
     "metadata": {},
     "output_type": "display_data"
    }
   ],
   "source": [
    "fig0 = px.scatter_mapbox(df, \n",
    "                        lat=\"Lat\", \n",
    "                        lon=\"Lon\", \n",
    "                        color=\"day_of_week\",\n",
    "                        category_orders={\"hour_of_day\":[6,7,8,9,10,11,12,13,14,15,16,17,18,19,20,21,22,23,0,1,2,3,4,5]}, \n",
    "                        size_max=15, \n",
    "                        animation_frame=\"hour_of_day\",\n",
    "                        zoom=10,\n",
    "                        mapbox_style=\"carto-positron\")\n",
    "fig0.show()"
   ]
  },
  {
   "cell_type": "markdown",
   "id": "956d1005-88e7-4cb8-8671-ee089de6eda3",
   "metadata": {},
   "source": [
    "#### Interactive map with plotly : peak hours according to the day of the week"
   ]
  },
  {
   "cell_type": "code",
   "execution_count": 7,
   "id": "f6cfa701-14f4-472f-806b-c4d6fb235412",
   "metadata": {},
   "outputs": [
    {
     "data": {
      "text/html": [
       "<iframe\n",
       "    scrolling=\"no\"\n",
       "    width=\"100%\"\n",
       "    height=\"545px\"\n",
       "    src=\"iframe_figures/figure_7.html\"\n",
       "    frameborder=\"0\"\n",
       "    allowfullscreen\n",
       "></iframe>\n"
      ]
     },
     "metadata": {},
     "output_type": "display_data"
    }
   ],
   "source": [
    "fig0_2 = go.Figure()\n",
    "\n",
    "fig0_2.add_trace(\n",
    "    go.Histogram(\n",
    "        x = df[df['day_of_week']==0]['hour_of_day']))\n",
    "\n",
    "fig0_2.add_trace(\n",
    "    go.Histogram(\n",
    "        x = df[df['day_of_week']==1]['hour_of_day'],\n",
    "        visible = False))\n",
    "\n",
    "fig0_2.add_trace(\n",
    "    go.Histogram(\n",
    "        x = df[df['day_of_week']==2]['hour_of_day'],\n",
    "        visible = False))\n",
    "\n",
    "fig0_2.add_trace(\n",
    "    go.Histogram(\n",
    "        x = df[df['day_of_week']==3]['hour_of_day'],\n",
    "        visible = False))\n",
    "\n",
    "fig0_2.add_trace(\n",
    "    go.Histogram(\n",
    "        x = df[df['day_of_week']==4]['hour_of_day'],\n",
    "        visible = False))\n",
    "\n",
    "fig0_2.add_trace(\n",
    "    go.Histogram(\n",
    "        x = df[df['day_of_week']==5]['hour_of_day'],\n",
    "        visible = False))\n",
    "\n",
    "fig0_2.add_trace(\n",
    "    go.Histogram(\n",
    "        x = df[df['day_of_week']==6]['hour_of_day'],\n",
    "        visible = False))\n",
    "\n",
    "\n",
    "fig0_2.update_layout(\n",
    "        title = go.layout.Title(text = \"Peak hours according to the day of the week (dropdown menu)\", x = 0.5))\n",
    "\n",
    "fig0_2.update_layout(\n",
    "    bargap=0.2,\n",
    "    updatemenus = [go.layout.Updatemenu(\n",
    "        active = 0,\n",
    "        buttons = [\n",
    "                    go.layout.updatemenu.Button(\n",
    "                        label = \"Monday\",\n",
    "                        method = \"update\",\n",
    "                        args = [{\"visible\" : [True, False, False, False, False, False, False]}]),\n",
    "                    go.layout.updatemenu.Button(\n",
    "                            label = \"Tuesday\",\n",
    "                            method = \"update\",\n",
    "                            args = [{\"visible\" : [False, True, False, False, False, False, False]}]),\n",
    "                    go.layout.updatemenu.Button(\n",
    "                            label = \"Wednesday\",\n",
    "                            method = \"update\",\n",
    "                            args = [{\"visible\" : [False, False, True, False, False, False, False]}]),\n",
    "                    go.layout.updatemenu.Button(\n",
    "                            label = \"Thursday\",\n",
    "                            method = \"update\",\n",
    "                            args = [{\"visible\" : [False, False, False,True, False, False, False]}]),\n",
    "                    go.layout.updatemenu.Button(\n",
    "                            label = \"Friday\",\n",
    "                            method = \"update\",\n",
    "                            args = [{\"visible\" : [False, False, False,False, True, False, False]}]),\n",
    "                    go.layout.updatemenu.Button(\n",
    "                            label = \"Saturday\",\n",
    "                            method = \"update\",\n",
    "                            args = [{\"visible\" : [False, False, False,False, False, True, False]}]),\n",
    "                    go.layout.updatemenu.Button(\n",
    "                            label = \"Sunday\",\n",
    "                            method = \"update\",\n",
    "                            args = [{\"visible\" : [False, False, False,False, False, False, True]}]),\n",
    "                    \n",
    "                ]\n",
    "    )]\n",
    ")"
   ]
  },
  {
   "cell_type": "markdown",
   "id": "98bc374c-bee9-4259-a677-1fbe509df08d",
   "metadata": {},
   "source": [
    "### Try K-MEANS analysis on 2 features"
   ]
  },
  {
   "cell_type": "code",
   "execution_count": 14,
   "id": "95732446-50e9-478e-aa8a-50cedad3314f",
   "metadata": {},
   "outputs": [],
   "source": [
    "X = df.loc[:,[\"hour_of_day\",\"day_of_week\"]]\n",
    "sc = StandardScaler()\n",
    "X = sc.fit_transform(X)"
   ]
  },
  {
   "cell_type": "code",
   "execution_count": 15,
   "id": "35499e99-8da0-4939-a70d-1e60d28c663b",
   "metadata": {},
   "outputs": [
    {
     "data": {
      "text/plain": [
       "KMeans(n_clusters=4, random_state=0)"
      ]
     },
     "execution_count": 15,
     "metadata": {},
     "output_type": "execute_result"
    }
   ],
   "source": [
    "kmeans = KMeans(n_clusters=4, random_state=0)\n",
    "kmeans.fit(X)"
   ]
  },
  {
   "cell_type": "code",
   "execution_count": 16,
   "id": "0b1106ec-69bd-44a0-af93-181b942b4ace",
   "metadata": {},
   "outputs": [
    {
     "data": {
      "text/plain": [
       "<AxesSubplot:>"
      ]
     },
     "execution_count": 16,
     "metadata": {},
     "output_type": "execute_result"
    },
    {
     "data": {
      "image/png": "[encoded data removed]",
      "text/plain": [
       "<Figure size 432x288 with 2 Axes>"
      ]
     },
     "metadata": {
      "needs_background": "light"
     },
     "output_type": "display_data"
    }
   ],
   "source": [
    "# Cluster centers coordinates\n",
    "cluster_centers = sc.inverse_transform(kmeans.cluster_centers_)\n",
    "# Let's get column names to facilita understanding \n",
    "labels = [\"hour_of_day\",\"day_of_week\"]\n",
    "# Create a heatmap \n",
    "sns.heatmap(pd.DataFrame(cluster_centers, columns=labels), annot=True)"
   ]
  },
  {
   "cell_type": "markdown",
   "id": "3975c77a-1b6a-47f8-951c-8b0f7d1fa86c",
   "metadata": {},
   "source": [
    "#### Elbow assessment"
   ]
  },
  {
   "cell_type": "code",
   "execution_count": 8,
   "id": "b67232ed-a526-4e06-80cb-93fc467a9edf",
   "metadata": {},
   "outputs": [
    {
     "data": {
      "text/html": [
       "<iframe\n",
       "    scrolling=\"no\"\n",
       "    width=\"100%\"\n",
       "    height=\"545px\"\n",
       "    src=\"iframe_figures/figure_8.html\"\n",
       "    frameborder=\"0\"\n",
       "    allowfullscreen\n",
       "></iframe>\n"
      ]
     },
     "metadata": {},
     "output_type": "display_data"
    }
   ],
   "source": [
    "wcss =  []\n",
    "k = []\n",
    "for i in range (1,11): \n",
    "    kmeans = KMeans(n_clusters= i, random_state = 0)\n",
    "    kmeans.fit(X)\n",
    "    wcss.append(kmeans.inertia_)\n",
    "    k.append(i)\n",
    "    \n",
    "# Let's visualize using plotly\n",
    "wcss_frame = pd.DataFrame(wcss)\n",
    "k_frame = pd.Series(k)\n",
    "fig_inertia= px.line(\n",
    "    wcss_frame,\n",
    "    x=k_frame,\n",
    "    y=wcss_frame.iloc[:,-1])\n",
    "fig_inertia.update_layout(\n",
    "    yaxis_title=\"Inertia\",\n",
    "    xaxis_title=\"# Clusters\",\n",
    "    title=\"Inertia per cluster\")\n",
    "fig_inertia.show(renderer=\"iframe\") # if using workspace"
   ]
  },
  {
   "cell_type": "markdown",
   "id": "9f8070fa-659d-444d-a9df-eb76ce0621cd",
   "metadata": {},
   "source": [
    "#### Silhouette assessment"
   ]
  },
  {
   "cell_type": "code",
   "execution_count": 9,
   "id": "363b73e9-3f00-4587-b276-1887adf0cc86",
   "metadata": {},
   "outputs": [
    {
     "name": "stdout",
     "output_type": "stream",
     "text": [
      "Silhouette score for K=2 is 0.36558254640701665\n",
      "Silhouette score for K=3 is 0.4035333209447449\n",
      "Silhouette score for K=4 is 0.40909388221059295\n",
      "Silhouette score for K=5 is 0.37989218777815076\n",
      "Silhouette score for K=6 is 0.3796174062633576\n",
      "Silhouette score for K=7 is 0.3854947661909598\n",
      "Silhouette score for K=8 is 0.3882434989908437\n",
      "Silhouette score for K=9 is 0.38996922825097846\n",
      "Silhouette score for K=10 is 0.37847357052457037\n"
     ]
    }
   ],
   "source": [
    "# Computer mean silhouette score\n",
    "sil = []\n",
    "k = []\n",
    "## Careful, you need to start at i=2 as silhouette score cannot accept less than 2 labels \n",
    "for i in range (2,11): \n",
    "    kmeans = KMeans(n_clusters= i, random_state = 0)\n",
    "    kmeans.fit(X)\n",
    "    sil.append(silhouette_score(X, kmeans.predict(X)))\n",
    "    k.append(i)\n",
    "    print(\"Silhouette score for K={} is {}\".format(i, sil[-1]))"
   ]
  },
  {
   "cell_type": "code",
   "execution_count": 17,
   "id": "886a4771-5f4a-49e0-a7d3-3b805da42cec",
   "metadata": {},
   "outputs": [
    {
     "data": {
      "text/plain": [
       "0    18866\n",
       "2    12989\n",
       "3    10705\n",
       "1     7440\n",
       "dtype: int64"
      ]
     },
     "execution_count": 17,
     "metadata": {},
     "output_type": "execute_result"
    }
   ],
   "source": [
    "labels_Km = pd.Series(kmeans.labels_)\n",
    "dim_clusters_Km = labels_Km.value_counts()\n",
    "dim_clusters_Km"
   ]
  },
  {
   "cell_type": "code",
   "execution_count": 18,
   "id": "b555259a-9622-4f84-84d4-c0d6c6ccbb3e",
   "metadata": {},
   "outputs": [],
   "source": [
    "df[\"cluster_Km\"]=labels_Km.astype(\"str\").tolist()"
   ]
  },
  {
   "cell_type": "code",
   "execution_count": 20,
   "id": "022d8487-d47e-4655-bdb3-214f62dfddb8",
   "metadata": {},
   "outputs": [
    {
     "data": {
      "text/html": [
       "<iframe\n",
       "    scrolling=\"no\"\n",
       "    width=\"100%\"\n",
       "    height=\"545px\"\n",
       "    src=\"iframe_figures/figure_20.html\"\n",
       "    frameborder=\"0\"\n",
       "    allowfullscreen\n",
       "></iframe>\n"
      ]
     },
     "metadata": {},
     "output_type": "display_data"
    }
   ],
   "source": [
    "fig_Km = px.scatter_mapbox(df, \n",
    "                        lat=\"Lat\", \n",
    "                        lon=\"Lon\", \n",
    "                        color=\"cluster_Km\",\n",
    "                        animation_frame=\"day_of_week\",\n",
    "                        #category_orders={\"cluster_2\": [\"-1\",\"0\",\"1\",\"2\",\"3\",\"4\",\"5\",\"6\",\"7\",\"8\",\"9\",\"10\",\"11\", \"12\", \"13\"], \n",
    "                                         #\"day_of_week\":[0,1,2,3,4,5]}, \n",
    "                        size_max=25, \n",
    "                        zoom=10,\n",
    "                        mapbox_style=\"carto-positron\",\n",
    "                        title = \"Hot spots for Uber Pickups - KMeans Cluster\")\n",
    "fig_Km.show()"
   ]
  },
  {
   "cell_type": "markdown",
   "id": "fc454fe9-3298-4551-b7ec-9e1651ed4aed",
   "metadata": {},
   "source": [
    "### Try K-MEANS analysis on 4 features"
   ]
  },
  {
   "cell_type": "code",
   "execution_count": 22,
   "id": "b9026735-592d-4589-bf21-c47a3b03478f",
   "metadata": {},
   "outputs": [],
   "source": [
    "X_3 = df.loc[:,[\"Lat\",\"Lon\",\"day_of_week\",\"hour_of_day\"]]\n",
    "sc = StandardScaler()\n",
    "X_3 = sc.fit_transform(X_3)"
   ]
  },
  {
   "cell_type": "code",
   "execution_count": 24,
   "id": "dd8d54cc-b2c1-4abd-9aa5-a34777667c7a",
   "metadata": {},
   "outputs": [
    {
     "data": {
      "text/plain": [
       "KMeans(n_clusters=4, random_state=0)"
      ]
     },
     "execution_count": 24,
     "metadata": {},
     "output_type": "execute_result"
    }
   ],
   "source": [
    "kmeans2 = KMeans(n_clusters=4, random_state=0)\n",
    "kmeans.fit(X_3)"
   ]
  },
  {
   "cell_type": "code",
   "execution_count": 26,
   "id": "12425056-3900-43ea-886b-1b7a663f9cbf",
   "metadata": {},
   "outputs": [
    {
     "data": {
      "text/plain": [
       "<AxesSubplot:>"
      ]
     },
     "execution_count": 26,
     "metadata": {},
     "output_type": "execute_result"
    },
    {
     "data": {
      "image/png": "[encoded data removed]",
      "text/plain": [
       "<Figure size 432x288 with 2 Axes>"
      ]
     },
     "metadata": {
      "needs_background": "light"
     },
     "output_type": "display_data"
    }
   ],
   "source": [
    "# Cluster centers coordinates\n",
    "cluster_centers2 = sc.inverse_transform(kmeans.cluster_centers_)\n",
    "# Let's get column names to facilita understanding \n",
    "labels2 = [\"Lat\",\"Lon\",\"day_of_week\",\"hour_of_day\"]\n",
    "# Create a heatmap \n",
    "sns.heatmap(pd.DataFrame(cluster_centers, columns=labels), annot=True)"
   ]
  },
  {
   "cell_type": "code",
   "execution_count": 27,
   "id": "67f368b8-9514-4b4d-b1f7-3e241c8a4053",
   "metadata": {},
   "outputs": [
    {
     "data": {
      "text/plain": [
       "0    18866\n",
       "2    12989\n",
       "3    10705\n",
       "1     7440\n",
       "dtype: int64"
      ]
     },
     "execution_count": 27,
     "metadata": {},
     "output_type": "execute_result"
    }
   ],
   "source": [
    "labels_Km2 = pd.Series(kmeans.labels_)\n",
    "dim_clusters_Km2 = labels_Km.value_counts()\n",
    "dim_clusters_Km2"
   ]
  },
  {
   "cell_type": "code",
   "execution_count": 28,
   "id": "bcbbf054-a959-4c71-8161-e25eb55d223b",
   "metadata": {},
   "outputs": [],
   "source": [
    "df[\"cluster_Km2\"]=labels_Km2.astype(\"str\").tolist()"
   ]
  },
  {
   "cell_type": "code",
   "execution_count": 30,
   "id": "a016ece9-70eb-4b94-bfe9-416a24c279b5",
   "metadata": {},
   "outputs": [
    {
     "data": {
      "text/html": [
       "<iframe\n",
       "    scrolling=\"no\"\n",
       "    width=\"100%\"\n",
       "    height=\"545px\"\n",
       "    src=\"iframe_figures/figure_30.html\"\n",
       "    frameborder=\"0\"\n",
       "    allowfullscreen\n",
       "></iframe>\n"
      ]
     },
     "metadata": {},
     "output_type": "display_data"
    }
   ],
   "source": [
    "fig_Km2 = px.scatter_mapbox(df, \n",
    "                        lat=\"Lat\", \n",
    "                        lon=\"Lon\", \n",
    "                        color=\"cluster_Km2\",\n",
    "                        animation_frame=\"day_of_week\",\n",
    "                        #category_orders={\"cluster_2\": [\"-1\",\"0\",\"1\",\"2\",\"3\",\"4\",\"5\",\"6\",\"7\",\"8\",\"9\",\"10\",\"11\", \"12\", \"13\"], \n",
    "                                         #\"day_of_week\":[0,1,2,3,4,5]}, \n",
    "                        size_max=25, \n",
    "                        zoom=10,\n",
    "                        mapbox_style=\"carto-positron\",\n",
    "                        title = \"Hot spots for Uber Pickups - KMeans Cluster 2\")\n",
    "fig_Km2.show()"
   ]
  },
  {
   "cell_type": "markdown",
   "id": "a76d9ba5-af05-481f-9f28-73c529feffcc",
   "metadata": {},
   "source": [
    "#### Conclusion on K-Means\n",
    "- K-means is not really satisfying, let's try with DBScan"
   ]
  },
  {
   "cell_type": "markdown",
   "id": "35cbcd65-8ee7-46c5-923c-60dfd5746ba7",
   "metadata": {},
   "source": [
    "### Try DBScan"
   ]
  },
  {
   "cell_type": "markdown",
   "id": "85aa3291-c8f6-41eb-92ef-b25cea30f499",
   "metadata": {},
   "source": [
    "#### DBScan with 2 features (geo coordinates)"
   ]
  },
  {
   "cell_type": "code",
   "execution_count": 39,
   "id": "3195b104-c9bc-4210-b185-5f4431f09a31",
   "metadata": {},
   "outputs": [
    {
     "data": {
      "text/plain": [
       "array([[ 1.02279013, -0.11058571],\n",
       "       [ 0.68695988,  0.28474359],\n",
       "       [-1.66385184,  0.14130552],\n",
       "       [ 0.87956841,  0.27949585],\n",
       "       [-2.77505487,  0.50689766]])"
      ]
     },
     "execution_count": 39,
     "metadata": {},
     "output_type": "execute_result"
    }
   ],
   "source": [
    "X_2 = df.loc[:,[\"Lat\",\"Lon\"]]\n",
    "sc = StandardScaler()\n",
    "X_2 = sc.fit_transform(X_2)\n",
    "X_2[:5]"
   ]
  },
  {
   "cell_type": "code",
   "execution_count": 55,
   "id": "9c5c58b6-3216-450c-ac1d-feeeae47182e",
   "metadata": {},
   "outputs": [
    {
     "data": {
      "text/plain": [
       "DBSCAN(algorithm='brute', eps=0.11, metric='manhattan', min_samples=45)"
      ]
     },
     "execution_count": 55,
     "metadata": {},
     "output_type": "execute_result"
    }
   ],
   "source": [
    "db = DBSCAN(eps=0.11, min_samples=45, metric=\"manhattan\", algorithm=\"brute\") \n",
    "db.fit(X_2)"
   ]
  },
  {
   "cell_type": "code",
   "execution_count": 56,
   "id": "7538c91d-8e1b-4b88-b9a8-edfc233ca99c",
   "metadata": {},
   "outputs": [
    {
     "data": {
      "text/plain": [
       "array([-1,  0,  1,  2,  3,  4,  5,  6,  7,  8,  9, 10, 11, 12, 13])"
      ]
     },
     "execution_count": 56,
     "metadata": {},
     "output_type": "execute_result"
    }
   ],
   "source": [
    "np.unique(db.labels_)"
   ]
  },
  {
   "cell_type": "code",
   "execution_count": 57,
   "id": "eb9b9d46-3f50-4b60-931c-d1abca005586",
   "metadata": {},
   "outputs": [
    {
     "data": {
      "text/plain": [
       " 0     37391\n",
       "-1      3916\n",
       " 1      2960\n",
       " 2      2366\n",
       " 5      1161\n",
       " 3       999\n",
       " 6       318\n",
       " 7       315\n",
       " 9       116\n",
       " 4       103\n",
       " 10       85\n",
       " 8        80\n",
       " 11       70\n",
       " 12       61\n",
       " 13       59\n",
       "dtype: int64"
      ]
     },
     "execution_count": 57,
     "metadata": {},
     "output_type": "execute_result"
    }
   ],
   "source": [
    "labels = pd.Series(db.labels_)\n",
    "dim_clusters = labels.value_counts()\n",
    "dim_clusters"
   ]
  },
  {
   "cell_type": "code",
   "execution_count": 58,
   "id": "c12f1251-c0a1-46b7-a6d0-2e39ca78e3b1",
   "metadata": {},
   "outputs": [],
   "source": [
    "df[\"cluster\"]=labels.astype(\"str\").tolist()"
   ]
  },
  {
   "cell_type": "code",
   "execution_count": 59,
   "id": "97e2676c-9c16-493c-a47c-57f23ce090f3",
   "metadata": {},
   "outputs": [
    {
     "data": {
      "text/html": [
       "<iframe\n",
       "    scrolling=\"no\"\n",
       "    width=\"100%\"\n",
       "    height=\"545px\"\n",
       "    src=\"iframe_figures/figure_59.html\"\n",
       "    frameborder=\"0\"\n",
       "    allowfullscreen\n",
       "></iframe>\n"
      ]
     },
     "metadata": {},
     "output_type": "display_data"
    }
   ],
   "source": [
    "fig1 = px.scatter_mapbox(df, \n",
    "                        lat=\"Lat\", \n",
    "                        lon=\"Lon\", \n",
    "                        color=\"cluster\",\n",
    "                        animation_frame=\"day_of_week\",\n",
    "                        category_orders={\"cluster\": [\"-1\",\"0\",\"1\",\"2\",\"3\",\"4\",\"5\",\"6\",\"7\",\"8\",\"9\",\"10\",\"11\", \"12\", \"13\"], \n",
    "                                         \"day_of_week\":[0,1,2,3,4,5]}, \n",
    "                        size_max=25, \n",
    "                        zoom=10,\n",
    "                        mapbox_style=\"carto-positron\",\n",
    "                        title = \"Hot spots for Uber Pickups according to days of the week\")\n",
    "fig1.show()"
   ]
  },
  {
   "cell_type": "markdown",
   "id": "b5048427-0bd6-42aa-90dd-6b6af73f3236",
   "metadata": {},
   "source": [
    "#### DBScan with 4 features (geo coordinates + hour + day)"
   ]
  },
  {
   "cell_type": "code",
   "execution_count": 72,
   "id": "cb0a234c-6785-42ce-aad8-297871d6bba9",
   "metadata": {},
   "outputs": [
    {
     "data": {
      "text/plain": [
       "array([[ 1.02279013, -0.11058571,  0.0164811 , -0.86409893],\n",
       "       [ 0.68695988,  0.28474359,  0.54847275,  0.97605383],\n",
       "       [-1.66385184,  0.14130552,  1.61245604, -0.02766586],\n",
       "       [ 0.87956841,  0.27949585, -1.04750219, -1.03138555],\n",
       "       [-2.77505487,  0.50689766, -0.51551054, -0.5295257 ]])"
      ]
     },
     "execution_count": 72,
     "metadata": {},
     "output_type": "execute_result"
    }
   ],
   "source": [
    "X_3 = df.loc[:,[\"Lat\",\"Lon\",\"day_of_week\",\"hour_of_day\"]]\n",
    "sc = StandardScaler()\n",
    "X_3 = sc.fit_transform(X_3)\n",
    "X_3[:5]"
   ]
  },
  {
   "cell_type": "code",
   "execution_count": 87,
   "id": "90444d85-a58d-494d-8435-92066d177147",
   "metadata": {},
   "outputs": [
    {
     "data": {
      "text/plain": [
       "DBSCAN(algorithm='brute', metric='manhattan', min_samples=50)"
      ]
     },
     "execution_count": 87,
     "metadata": {},
     "output_type": "execute_result"
    }
   ],
   "source": [
    "db_2 = DBSCAN(eps=0.5, min_samples=50, metric=\"manhattan\", algorithm=\"brute\") \n",
    "db_2.fit(X_3)"
   ]
  },
  {
   "cell_type": "code",
   "execution_count": 88,
   "id": "12c98324-d281-43f5-8a2a-3b5548afc423",
   "metadata": {},
   "outputs": [
    {
     "data": {
      "text/plain": [
       "array([-1,  0,  1,  2,  3,  4,  5,  6,  7,  8,  9, 10, 11, 12, 13, 14, 15,\n",
       "       16, 17, 18, 19, 20, 21])"
      ]
     },
     "execution_count": 88,
     "metadata": {},
     "output_type": "execute_result"
    }
   ],
   "source": [
    "np.unique(db_2.labels_)"
   ]
  },
  {
   "cell_type": "code",
   "execution_count": 89,
   "id": "e6fae7c0-92cb-4799-b143-bb6fce90c6ce",
   "metadata": {},
   "outputs": [
    {
     "data": {
      "text/plain": [
       "-1     9738\n",
       " 0     6725\n",
       " 1     6534\n",
       " 3     6295\n",
       " 2     5798\n",
       " 6     4870\n",
       " 7     4448\n",
       " 4     2882\n",
       " 5      760\n",
       " 10     623\n",
       " 8      192\n",
       " 12     162\n",
       " 11     136\n",
       " 17     128\n",
       " 14     127\n",
       " 19      87\n",
       " 13      86\n",
       " 16      83\n",
       " 18      74\n",
       " 9       72\n",
       " 15      65\n",
       " 21      61\n",
       " 20      54\n",
       "dtype: int64"
      ]
     },
     "execution_count": 89,
     "metadata": {},
     "output_type": "execute_result"
    }
   ],
   "source": [
    "labels_2 = pd.Series(db_2.labels_)\n",
    "dim_clusters_2 = labels_2.value_counts()\n",
    "dim_clusters_2"
   ]
  },
  {
   "cell_type": "code",
   "execution_count": 90,
   "id": "c8152afe-3853-4eff-8c5b-7f4ae5eb7b0d",
   "metadata": {},
   "outputs": [],
   "source": [
    "df[\"cluster_2\"]=labels_2.astype(\"str\").tolist()"
   ]
  },
  {
   "cell_type": "code",
   "execution_count": 92,
   "id": "0546d420-3b3f-4033-9a23-9b2697729887",
   "metadata": {},
   "outputs": [
    {
     "data": {
      "text/html": [
       "<iframe\n",
       "    scrolling=\"no\"\n",
       "    width=\"100%\"\n",
       "    height=\"545px\"\n",
       "    src=\"iframe_figures/figure_92.html\"\n",
       "    frameborder=\"0\"\n",
       "    allowfullscreen\n",
       "></iframe>\n"
      ]
     },
     "metadata": {},
     "output_type": "display_data"
    }
   ],
   "source": [
    "fig2 = px.scatter_mapbox(df, \n",
    "                        lat=\"Lat\", \n",
    "                        lon=\"Lon\", \n",
    "                        color=\"cluster_2\",\n",
    "                        animation_frame=\"day_of_week\",\n",
    "                        category_orders={\"cluster_2\": [\"-1\",\"0\",\"1\",\"2\",\"3\",\"4\",\"5\",\"6\",\"7\",\"8\",\"9\",\"10\",\"11\", \"12\", \"13\"], \n",
    "                                         \"day_of_week\":[0,1,2,3,4,5]}, \n",
    "                        size_max=25, \n",
    "                        zoom=10,\n",
    "                        mapbox_style=\"carto-positron\",\n",
    "                        title = \"Hot spots for Uber Pickups - 4 dimensions\")\n",
    "fig2.show()"
   ]
  },
  {
   "cell_type": "code",
   "execution_count": null,
   "id": "4afbd742-50e4-433b-9e85-8934da6f59fc",
   "metadata": {},
   "outputs": [],
   "source": []
  }
 ],
 "metadata": {
  "kernelspec": {
   "display_name": "Python 3 (ipykernel)",
   "language": "python",
   "name": "python3"
  },
  "language_info": {
   "codemirror_mode": {
    "name": "ipython",
    "version": 3
   },
   "file_extension": ".py",
   "mimetype": "text/x-python",
   "name": "python",
   "nbconvert_exporter": "python",
   "pygments_lexer": "ipython3",
   "version": "3.9.7"
  }
 },
 "nbformat": 4,
 "nbformat_minor": 5
}
